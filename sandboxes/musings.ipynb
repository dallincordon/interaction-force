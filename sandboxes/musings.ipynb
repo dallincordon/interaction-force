{
 "cells": [
  {
   "cell_type": "code",
   "execution_count": 1,
   "metadata": {},
   "outputs": [],
   "source": [
    "import sys\n",
    "sys.path.append('..')  # Add the parent directory to the Python path\n",
    "import numpy as np\n",
    "from interaction_eqs import *\n",
    "from tools.vector_utils import *\n",
    "from matplotlib import pyplot as plt\n",
    "from matplotlib import animation\n",
    "import numpy as np"
   ]
  },
  {
   "cell_type": "markdown",
   "metadata": {},
   "source": [
    "# Musings on Interaction Force\n",
    "I've always found that some of my best thinking is done by writing things out until they make sense. So, in this document, my goal is to write and write about various interaction forces I see until the right approach/theory/equation falls out of it."
   ]
  },
  {
   "cell_type": "markdown",
   "metadata": {},
   "source": [
    "## What is Interaction Force?\n",
    "When teams of agents---be them robotic or human---carry objects together, there is this idea of interaction force that arises. The force has often been described as 'the wasted force' or 'the force that does no work'. Imagine two individuals push on the same object with the same force. The object wouldn't move and the force that cancels out would be called the interaction force. Diving deeper, if both agents push on the object with 5N of force, the interaction force would be 5N.\n",
    "\n",
    "The idea of interaction force has been brought up a decent amount in the literature of co-manipulation tasks. Some have theorized that the interaction force is something that we try to minimize as much as possible. Others have theorized that the interaction force serves a purpose as a channel for haptic communication. Others stipulate that it may be important, but only as a form of stabilization. It has been shown that when dancing, experts tend to increase their interaction force when compared to novices. \n",
    "\n",
    "The challenge becomes: how do we formally define interaction force? It would seem that, with so many opinions about it we would already have the common ground defined as for what interaction force is or how to calculate it. Surprisingly, while everyone seems to have a good intuition of what it is and what it entails, there actually lacks a good general definition."
   ]
  },
  {
   "cell_type": "markdown",
   "metadata": {},
   "source": [
    "## Groten's Definition\n",
    "The clearest definition of interaction force we could find was that of Groten. In their paper, they define the interaction force as the lesser of two opposing forces. This definition is simple, easy to define, and matches intuition for a simple 1 DOF scenario with two agents. It can be seen below.\n",
    "\n",
    "<img src=\"img/interaction1D.png\" width=\"500\" align=\"center\">"
   ]
  },
  {
   "cell_type": "markdown",
   "metadata": {},
   "source": [
    "However, since Groten's definition only works for two agents and the 1 DOF scenario, it becomes difficult to use interaction force as a meaningful metric, or even to study its impact in human-human co-manipulation tasks without a broader definition.\n",
    "\n",
    "To that end, we are hoping to expand the definition of interaction force to include the following characteristics:\n",
    "- 6 degrees of freedom\n",
    "- n- number of agents\n",
    "- has an appropriate accounting for gravity\n",
    "- deals with both forces and torques"
   ]
  },
  {
   "cell_type": "markdown",
   "metadata": {},
   "source": [
    "## Expanding our Knowledge of Interaction Force\n",
    "We began by searching out how to expand Groten's definition into a planar 2DOF environment. How does the interaction force change as Force B goes from being fully aligned with Force A to completely opposing it? We realized that, whatever the final solution, it should still match with Groten's definition in the 1DOF case: when the two forces are aligned the interaction force should be nonexistant, and when the forces are opposing, the interaction force should give the smaller of the two forces."
   ]
  },
  {
   "cell_type": "markdown",
   "metadata": {},
   "source": [
    "### Bisection Angle\n",
    "Recognizing this, we first explored a simple mapping that would give us those results:\n",
    "$$F_I=\\min(F_a,F_b) \\sin(\\theta/2)$$\n",
    "where $\\theta$ is the angle between the two force vectors. This worked great when talking about magnitudes but, in terms of vector math, broke down as it only scaled the smaller of the two vectors by $\\sin(\\theta/2)$. Expanding this further, we adjusted this concept for vector math as:\n",
    "$$F_I=\\perp\\mathrm{proj}_{u}\\min(||F_a||,||F_b||)$$\n",
    "\n",
    "In other words, we find the force with the smallest magnitude, then find the component of that force that is perpendicular to the line that bisects the two force vectors. Below is an example:\n",
    "\n",
    "<img src=\"img/perpendicular_projection_bisection.gif\" width=\"500\" align=\"center\">"
   ]
  },
  {
   "cell_type": "markdown",
   "metadata": {},
   "source": [
    "#### Issues\n",
    "Initially, it looked great. However, as we began looking into it, we started to have issues with the definition. If interaction force is the measure of wasted force, it would follow that the interaction force does not contribute to the net force. In other words, if we were to subtract the interaction force from $F_a$ and $F_b$, we would think the forces should be aligned with the net force. However, trying to do so left us with the following.\n",
    "\n",
    "<img src=\"img/perp_projection_bisection_subtract.gif\" width=\"500\" align=\"center\">\n",
    "\n",
    "This was problematic. If we subtract the interaction force from the two forces, why would it be possible to calculate an interaction force from both resulting force vectors (i.e., one could compute the bisection angle between the light red and light blue vectors and use the same equation to calculate an interaction force which doesn't make sense). In other words, this couldn't be the full definition of interaction force as some interaction was clearly still there."
   ]
  },
  {
   "cell_type": "markdown",
   "metadata": {},
   "source": [
    "### Net Force\n",
    "We then began considering the same approach but with respect to the net force as opposed to the bisecting angle:\n",
    "$$F_I=\\perp\\mathrm{proj}_{F_{net}}\\min(||F_a||,||F_b||)$$\n",
    "\n",
    "However, this clearly yielded its own problems as it didn't match Groten's 1D defintion.\n",
    "\n",
    "<img src=\"img/perpendicular_projection_net.gif\" width=\"500\" align=\"center\">\n",
    "\n",
    "Chaos ensued. Coordinate frames were drawn and redrawn. Vectors were split into their components along all axis and added and subtracted from one another. Some vyed for a theory based around the bisection angle, others the net force. Alliances shifted and flowed like sand across the desert waste. \n",
    "\n",
    "<img src=\"img/bisection_net.png\" width=\"300\" align=\"center\">\n",
    "\n",
    "Through it all, a few new theories began to emerge."
   ]
  },
  {
   "cell_type": "markdown",
   "metadata": {},
   "source": [
    "#### Convergence on a Solution\n",
    "Revisiting the concept of interaction force, both Dr. Salmon and Shaden separately concluded that any component that is not strictly \"in the direction\" of the net force (from the perspective of the net force) should consist of the interaction force. This would mean that, when the lesser of the two forces is within 90 degrees of the net force, the interaction force would consist of the orthogonal component (the parallel component would be in agreement with the net force). At and past 90 degrees, the parallel component would no longer align with the net force, and so it too would add to the net force. As such, the interaction force would be the orthogoal component of the smaller vector up to 90 degrees of the net force, then the full force vector past 90 degrees with the net force.\n",
    "\n",
    "<img src=\"img/const_net_force_small_beta.gif\" width=\"300\" align=\"center\">\n",
    "\n",
    "Another way to consider this is that if Agent A removed the interaction force from their own force and Agent B did the same, the resultant net force should not change (see above). If we had a scenario wherein Agent B pulls completely perpendicular to the net force, they in no way contribute to the net force. Sure, the net force wouldn't be in the same place if not for $F_b$, but geometrically, no component of $F_b$ acts along $F_{net}$. All of the force of Agent B is considered interaction. If we remove the interaction force from both partners, the net force would remain the same and would be equal to Agent A's 'useful' force. This can be seen in the image below. $F_b$ is completely orthogonal to $F_{net}$ and is therefore entirely an interaction force. If we remove the equal and opposite force from $F_a$, we see that $F_b - F_i$ matches the $F_{net}$.\n",
    "\n",
    "<img src=\"img/perpendicular_to_net.jpg\" width=\"500\" align=\"center\">\n",
    "\n",
    "As we move past the 90 degree mark, we can see that, if we subtract the equal and opposite component of $F_b$ that is orthogonal to $F_{net}$, from $F_a$ (i.e., $F_i - \\perp\\mathrm{proj}_{F_{net}}F_b$), we are left with the parallel component of $F_a$ on $F_{net}$. However, this component is too long and exceeds the net force. As previously described, when we remove the interaction force from all agents, we should be left with the same net force. So, in this scenario, by subtracting the orthogonal component of $F_b$, we are left with the dotted red and blue lines below (another interaction force). We quickly can see that by subtracting the parallel component of $F_b$ from the parallel component of $F_a$, we are given the net force. In other words, $F_b$ is the entirety of the interaction force.\n",
    "\n",
    "<img src=\"img/obtuse_to_net.jpg\" width=\"500\" align=\"center\">"
   ]
  },
  {
   "cell_type": "markdown",
   "metadata": {},
   "source": [
    "Now, if this situation holds true, the interaction force should looks something like this:\n",
    "\n",
    "<img src=\"img/counteract.gif\" width=\"500\" align=\"center\">\n",
    "\n",
    "When we consider the previous issue with the bisection method (wherein each force subtracted by the interaction force left you with forces that could, in and of themselves, have an interaction force with each other), this method (I'll call \"counteraction\") performs much more intuitively:\n",
    "\n",
    "<img src=\"img/counteract_subtract.gif\" width=\"500\" align=\"center\">"
   ]
  },
  {
   "cell_type": "markdown",
   "metadata": {},
   "source": []
  }
 ],
 "metadata": {
  "kernelspec": {
   "display_name": "Python 3",
   "language": "python",
   "name": "python3"
  },
  "language_info": {
   "codemirror_mode": {
    "name": "ipython",
    "version": 3
   },
   "file_extension": ".py",
   "mimetype": "text/x-python",
   "name": "python",
   "nbconvert_exporter": "python",
   "pygments_lexer": "ipython3",
   "version": "3.11.7"
  }
 },
 "nbformat": 4,
 "nbformat_minor": 2
}
